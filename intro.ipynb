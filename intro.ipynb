{
  "nbformat": 4,
  "nbformat_minor": 0,
  "metadata": {
    "colab": {
      "provenance": [],
      "authorship_tag": "ABX9TyO/igX8JHvvJafI45i95c4g",
      "include_colab_link": true
    },
    "kernelspec": {
      "name": "python3",
      "display_name": "Python 3"
    },
    "language_info": {
      "name": "python"
    }
  },
  "cells": [
    {
      "cell_type": "markdown",
      "metadata": {
        "id": "view-in-github",
        "colab_type": "text"
      },
      "source": [
        "<a href=\"https://colab.research.google.com/github/kamsolek/intro/blob/main/intro.ipynb\" target=\"_parent\"><img src=\"https://colab.research.google.com/assets/colab-badge.svg\" alt=\"Open In Colab\"/></a>"
      ]
    },
    {
      "cell_type": "code",
      "execution_count": 1,
      "metadata": {
        "colab": {
          "base_uri": "https://localhost:8080/"
        },
        "id": "GSuPo3PH9rFa",
        "outputId": "bab6c501-82c7-477d-844a-3b53c5eaef85"
      },
      "outputs": [
        {
          "output_type": "stream",
          "name": "stdout",
          "text": [
            "hello\n"
          ]
        }
      ],
      "source": [
        "print('hello')"
      ]
    },
    {
      "cell_type": "markdown",
      "source": [
        "### Hello Colab\n",
        "gtgtyj\n",
        "kaakakakka\n",
        "dsaodkas\n",
        "\n",
        "ds\n",
        "**pogrubiony tekst**"
      ],
      "metadata": {
        "id": "reE5HhK--SLh"
      }
    },
    {
      "cell_type": "code",
      "source": [],
      "metadata": {
        "id": "iaJHPIxb-c8v"
      },
      "execution_count": null,
      "outputs": []
    }
  ]
}